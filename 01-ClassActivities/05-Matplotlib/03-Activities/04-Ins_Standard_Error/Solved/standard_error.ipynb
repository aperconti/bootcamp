{
 "cells": [
  {
   "cell_type": "code",
   "execution_count": 4,
   "metadata": {},
   "outputs": [],
   "source": [
    "# Dependencies\n",
    "import pandas as pd\n",
    "import random\n",
    "import matplotlib.pyplot as plt\n",
    "import numpy as np\n",
    "from scipy.stats import sem\n",
    "\n",
    "# Set the seed so our data is reproducible\n",
    "random.seed(42)"
   ]
  },
  {
   "cell_type": "code",
   "execution_count": 5,
   "metadata": {},
   "outputs": [
    {
     "name": "stdout",
     "output_type": "stream",
     "text": [
      "          Type  Combined_MPG                           Make_Model\n",
      "0  Two Seaters       21.0000                            Acura_NSX\n",
      "1  Two Seaters       27.9406                        ALFA ROMEO_4C\n",
      "2  Two Seaters       20.9455  Aston Martin Lagonda Ltd_Vantage V8\n",
      "3  Two Seaters       25.9952             Audi_TT Roadster quattro\n",
      "4  Two Seaters       27.6300                     BMW_Z4 sDrive30i\n"
     ]
    }
   ],
   "source": [
    "# Sample versus population example fuel economy\n",
    "fuel_economy = pd.read_csv('../Resources/2019_fuel_economy.csv')\n",
    "\n",
    "# First overview the data set - how many factors, etc.\n",
    "print(fuel_economy.head())"
   ]
  },
  {
   "cell_type": "code",
   "execution_count": 6,
   "metadata": {},
   "outputs": [
    {
     "name": "stdout",
     "output_type": "stream",
     "text": [
      "The mean MPG of all vehicles is:       23.33\n",
      "The standard deviation of all vehicle's MPG is:       5.94\n"
     ]
    },
    {
     "data": {
      "image/png": "[encoded data removed]",
      "text/plain": [
       "<Figure size 432x288 with 1 Axes>"
      ]
     },
     "metadata": {
      "needs_background": "light"
     },
     "output_type": "display_data"
    }
   ],
   "source": [
    "# Calculate the summary statistics and plot the histogram of \n",
    "# the entire population data\n",
    "print(f\"The mean MPG of all vehicles is: \\\n",
    "      {round(fuel_economy.Combined_MPG.mean(),2)}\")\n",
    "print(f\"The standard deviation of all vehicle's MPG is: \\\n",
    "      {round(fuel_economy.Combined_MPG.std(),2)}\")\n",
    "plt.hist(fuel_economy.Combined_MPG)\n",
    "plt.xlabel(\"Fuel Economy (MPG)\")\n",
    "plt.ylabel(\"Number of Vehicles\")\n",
    "plt.show()"
   ]
  },
  {
   "cell_type": "code",
   "execution_count": 7,
   "metadata": {},
   "outputs": [
    {
     "name": "stdout",
     "output_type": "stream",
     "text": [
      "The mean MPG of all vehicles is:       18.48\n",
      "The standard deviation of all vehicle's MPG is:       2.41\n"
     ]
    },
    {
     "data": {
      "image/png": "[encoded data removed]",
      "text/plain": [
       "<Figure size 432x288 with 1 Axes>"
      ]
     },
     "metadata": {
      "needs_background": "light"
     },
     "output_type": "display_data"
    }
   ],
   "source": [
    "# Calculate the summary statistics and plot the histogram of the \n",
    "# sample data using iloc\n",
    "subset = fuel_economy.iloc[range(766,856)]\n",
    "print(f\"The mean MPG of all vehicles is: \\\n",
    "      {round(subset.Combined_MPG.mean(),2)}\")\n",
    "print(f\"The standard deviation of all vehicle's MPG is: \\\n",
    "      {round(subset.Combined_MPG.std(),2)}\")\n",
    "plt.hist(subset.Combined_MPG)\n",
    "plt.xlabel(\"Fuel Economy (MPG)\")\n",
    "plt.ylabel(\"Number of Vehicles\")\n",
    "plt.show()"
   ]
  },
  {
   "cell_type": "code",
   "execution_count": 13,
   "metadata": {},
   "outputs": [
    {
     "name": "stdout",
     "output_type": "stream",
     "text": [
      "The mean MPG of all vehicles is:       23.29\n",
      "The standard deviation of all vehicle's MPG is:       7.67\n"
     ]
    },
    {
     "data": {
      "image/png": "[encoded data removed]",
      "text/plain": [
       "<Figure size 432x288 with 1 Axes>"
      ]
     },
     "metadata": {
      "needs_background": "light"
     },
     "output_type": "display_data"
    }
   ],
   "source": [
    "# Calculate the summary statistics and plot the histogram \n",
    "# of the sample data using random sampling\n",
    "subset = fuel_economy.sample(90)\n",
    "print(f\"The mean MPG of all vehicles is: \\\n",
    "      {round(subset.Combined_MPG.mean(),2)}\")\n",
    "print(f\"The standard deviation of all vehicle's MPG is: \\\n",
    "      {round(subset.Combined_MPG.std(),2)}\")\n",
    "plt.hist(subset.Combined_MPG)\n",
    "plt.xlabel(\"Fuel Economy (MPG)\")\n",
    "plt.ylabel(\"Number of Vehicles\")\n",
    "plt.show()"
   ]
  },
  {
   "cell_type": "code",
   "execution_count": 19,
   "metadata": {},
   "outputs": [
    {
     "name": "stdout",
     "output_type": "stream",
     "text": [
      "The SEM value for the sample fuel economy data is       0.4953428687201844\n"
     ]
    }
   ],
   "source": [
    "# Generate a new 30 vehicle sample and calculate the SEM of the sample\n",
    "sample = fuel_economy.sample(160)\n",
    "print(f\"The SEM value for the sample fuel economy data is \\\n",
    "      {sem(sample.Combined_MPG)}\")"
   ]
  },
  {
   "cell_type": "code",
   "execution_count": 22,
   "metadata": {},
   "outputs": [
    {
     "data": {
      "text/html": [
       "<div>\n",
       "<style scoped>\n",
       "    .dataframe tbody tr th:only-of-type {\n",
       "        vertical-align: middle;\n",
       "    }\n",
       "\n",
       "    .dataframe tbody tr th {\n",
       "        vertical-align: top;\n",
       "    }\n",
       "\n",
       "    .dataframe thead th {\n",
       "        text-align: right;\n",
       "    }\n",
       "</style>\n",
       "<table border=\"1\" class=\"dataframe\">\n",
       "  <thead>\n",
       "    <tr style=\"text-align: right;\">\n",
       "      <th></th>\n",
       "      <th>Type</th>\n",
       "      <th>Combined_MPG</th>\n",
       "      <th>Make_Model</th>\n",
       "    </tr>\n",
       "  </thead>\n",
       "  <tbody>\n",
       "    <tr>\n",
       "      <th>212</th>\n",
       "      <td>Subcompact Cars</td>\n",
       "      <td>19.0000</td>\n",
       "      <td>LEXUS_RC F</td>\n",
       "    </tr>\n",
       "    <tr>\n",
       "      <th>668</th>\n",
       "      <td>Large Cars</td>\n",
       "      <td>20.5095</td>\n",
       "      <td>Mercedes-Benz_S 560</td>\n",
       "    </tr>\n",
       "    <tr>\n",
       "      <th>24</th>\n",
       "      <td>Two Seaters</td>\n",
       "      <td>18.6648</td>\n",
       "      <td>Jaguar_F-TYPE Convertible Manual</td>\n",
       "    </tr>\n",
       "    <tr>\n",
       "      <th>645</th>\n",
       "      <td>Large Cars</td>\n",
       "      <td>19.9822</td>\n",
       "      <td>Jaguar_XJ AWD</td>\n",
       "    </tr>\n",
       "    <tr>\n",
       "      <th>135</th>\n",
       "      <td>Subcompact Cars</td>\n",
       "      <td>16.6449</td>\n",
       "      <td>Aston Martin Lagonda Ltd_Rapide S</td>\n",
       "    </tr>\n",
       "    <tr>\n",
       "      <th>161</th>\n",
       "      <td>Subcompact Cars</td>\n",
       "      <td>24.1256</td>\n",
       "      <td>BMW_M240i Coupe</td>\n",
       "    </tr>\n",
       "    <tr>\n",
       "      <th>1092</th>\n",
       "      <td>Small SUV 4WD</td>\n",
       "      <td>25.2200</td>\n",
       "      <td>Mitsubishi Motors Corporation_OUTLANDER SPORT 4WD</td>\n",
       "    </tr>\n",
       "    <tr>\n",
       "      <th>767</th>\n",
       "      <td>Standard Pick-up Trucks 2WD</td>\n",
       "      <td>16.8203</td>\n",
       "      <td>Chevrolet_C10 SILVERADO 2WD</td>\n",
       "    </tr>\n",
       "    <tr>\n",
       "      <th>336</th>\n",
       "      <td>Compact Cars</td>\n",
       "      <td>34.0784</td>\n",
       "      <td>MAZDA_MAZDA2</td>\n",
       "    </tr>\n",
       "    <tr>\n",
       "      <th>210</th>\n",
       "      <td>Subcompact Cars</td>\n",
       "      <td>22.8079</td>\n",
       "      <td>LEXUS_RC 350</td>\n",
       "    </tr>\n",
       "    <tr>\n",
       "      <th>123</th>\n",
       "      <td>Minicompact Cars</td>\n",
       "      <td>20.6000</td>\n",
       "      <td>Porsche_911 Targa 4 GTS</td>\n",
       "    </tr>\n",
       "    <tr>\n",
       "      <th>990</th>\n",
       "      <td>Small SUV 4WD</td>\n",
       "      <td>22.6604</td>\n",
       "      <td>BMW_X4 M40i</td>\n",
       "    </tr>\n",
       "    <tr>\n",
       "      <th>527</th>\n",
       "      <td>Midsize Cars</td>\n",
       "      <td>24.1592</td>\n",
       "      <td>Mini_COOPER S CLUBMAN ALL4</td>\n",
       "    </tr>\n",
       "    <tr>\n",
       "      <th>853</th>\n",
       "      <td>Standard Pick-up Trucks 4WD</td>\n",
       "      <td>14.4679</td>\n",
       "      <td>TOYOTA_TUNDRA 4WD</td>\n",
       "    </tr>\n",
       "    <tr>\n",
       "      <th>216</th>\n",
       "      <td>Subcompact Cars</td>\n",
       "      <td>21.0704</td>\n",
       "      <td>Mercedes-Benz_AMG C 43 4MATIC (convertible)</td>\n",
       "    </tr>\n",
       "    <tr>\n",
       "      <th>56</th>\n",
       "      <td>Two Seaters</td>\n",
       "      <td>26.7683</td>\n",
       "      <td>Mercedes-Benz_SLC 300</td>\n",
       "    </tr>\n",
       "    <tr>\n",
       "      <th>770</th>\n",
       "      <td>Standard Pick-up Trucks 2WD</td>\n",
       "      <td>18.9908</td>\n",
       "      <td>Chevrolet_C10 SILVERADO 2WD</td>\n",
       "    </tr>\n",
       "    <tr>\n",
       "      <th>1199</th>\n",
       "      <td>Standard SUV 4WD</td>\n",
       "      <td>15.5774</td>\n",
       "      <td>Land Rover_Range Rover SV Coupe</td>\n",
       "    </tr>\n",
       "    <tr>\n",
       "      <th>561</th>\n",
       "      <td>Midsize Cars</td>\n",
       "      <td>46.2351</td>\n",
       "      <td>TOYOTA_CAMRY HYBRID XLE/SE</td>\n",
       "    </tr>\n",
       "    <tr>\n",
       "      <th>597</th>\n",
       "      <td>Large Cars</td>\n",
       "      <td>21.7518</td>\n",
       "      <td>Chevrolet_IMPALA</td>\n",
       "    </tr>\n",
       "    <tr>\n",
       "      <th>925</th>\n",
       "      <td>Small SUV 2WD</td>\n",
       "      <td>22.3536</td>\n",
       "      <td>Honda_PILOT FWD</td>\n",
       "    </tr>\n",
       "    <tr>\n",
       "      <th>441</th>\n",
       "      <td>Midsize Cars</td>\n",
       "      <td>42.0000</td>\n",
       "      <td>Ford_FUSION HYBRID FWD</td>\n",
       "    </tr>\n",
       "    <tr>\n",
       "      <th>1034</th>\n",
       "      <td>Small SUV 4WD</td>\n",
       "      <td>24.0852</td>\n",
       "      <td>Jeep_Cherokee 4X4</td>\n",
       "    </tr>\n",
       "    <tr>\n",
       "      <th>80</th>\n",
       "      <td>Minicompact Cars</td>\n",
       "      <td>15.9815</td>\n",
       "      <td>Aston Martin Lagonda Ltd_Vanquish S</td>\n",
       "    </tr>\n",
       "    <tr>\n",
       "      <th>546</th>\n",
       "      <td>Midsize Cars</td>\n",
       "      <td>27.0000</td>\n",
       "      <td>NISSAN_SENTRA NISMO</td>\n",
       "    </tr>\n",
       "    <tr>\n",
       "      <th>1126</th>\n",
       "      <td>Standard SUV 2WD</td>\n",
       "      <td>19.5660</td>\n",
       "      <td>Ford_EXPLORER FWD</td>\n",
       "    </tr>\n",
       "    <tr>\n",
       "      <th>1077</th>\n",
       "      <td>Small SUV 4WD</td>\n",
       "      <td>22.5986</td>\n",
       "      <td>MAZDA_CX-9 4WD</td>\n",
       "    </tr>\n",
       "    <tr>\n",
       "      <th>259</th>\n",
       "      <td>Compact Cars</td>\n",
       "      <td>29.6146</td>\n",
       "      <td>BMW_330i</td>\n",
       "    </tr>\n",
       "    <tr>\n",
       "      <th>570</th>\n",
       "      <td>Midsize Cars</td>\n",
       "      <td>52.3985</td>\n",
       "      <td>TOYOTA_PRIUS</td>\n",
       "    </tr>\n",
       "    <tr>\n",
       "      <th>823</th>\n",
       "      <td>Standard Pick-up Trucks 4WD</td>\n",
       "      <td>16.0000</td>\n",
       "      <td>Ford_F150 5.0L 4WD FFV GVWR&gt;7599 LBS</td>\n",
       "    </tr>\n",
       "  </tbody>\n",
       "</table>\n",
       "</div>"
      ],
      "text/plain": [
       "                             Type  Combined_MPG  \\\n",
       "212               Subcompact Cars       19.0000   \n",
       "668                    Large Cars       20.5095   \n",
       "24                    Two Seaters       18.6648   \n",
       "645                    Large Cars       19.9822   \n",
       "135               Subcompact Cars       16.6449   \n",
       "161               Subcompact Cars       24.1256   \n",
       "1092                Small SUV 4WD       25.2200   \n",
       "767   Standard Pick-up Trucks 2WD       16.8203   \n",
       "336                  Compact Cars       34.0784   \n",
       "210               Subcompact Cars       22.8079   \n",
       "123              Minicompact Cars       20.6000   \n",
       "990                 Small SUV 4WD       22.6604   \n",
       "527                  Midsize Cars       24.1592   \n",
       "853   Standard Pick-up Trucks 4WD       14.4679   \n",
       "216               Subcompact Cars       21.0704   \n",
       "56                    Two Seaters       26.7683   \n",
       "770   Standard Pick-up Trucks 2WD       18.9908   \n",
       "1199             Standard SUV 4WD       15.5774   \n",
       "561                  Midsize Cars       46.2351   \n",
       "597                    Large Cars       21.7518   \n",
       "925                 Small SUV 2WD       22.3536   \n",
       "441                  Midsize Cars       42.0000   \n",
       "1034                Small SUV 4WD       24.0852   \n",
       "80               Minicompact Cars       15.9815   \n",
       "546                  Midsize Cars       27.0000   \n",
       "1126             Standard SUV 2WD       19.5660   \n",
       "1077                Small SUV 4WD       22.5986   \n",
       "259                  Compact Cars       29.6146   \n",
       "570                  Midsize Cars       52.3985   \n",
       "823   Standard Pick-up Trucks 4WD       16.0000   \n",
       "\n",
       "                                             Make_Model  \n",
       "212                                          LEXUS_RC F  \n",
       "668                                 Mercedes-Benz_S 560  \n",
       "24                     Jaguar_F-TYPE Convertible Manual  \n",
       "645                                       Jaguar_XJ AWD  \n",
       "135                   Aston Martin Lagonda Ltd_Rapide S  \n",
       "161                                     BMW_M240i Coupe  \n",
       "1092  Mitsubishi Motors Corporation_OUTLANDER SPORT 4WD  \n",
       "767                         Chevrolet_C10 SILVERADO 2WD  \n",
       "336                                        MAZDA_MAZDA2  \n",
       "210                                        LEXUS_RC 350  \n",
       "123                             Porsche_911 Targa 4 GTS  \n",
       "990                                         BMW_X4 M40i  \n",
       "527                          Mini_COOPER S CLUBMAN ALL4  \n",
       "853                                   TOYOTA_TUNDRA 4WD  \n",
       "216         Mercedes-Benz_AMG C 43 4MATIC (convertible)  \n",
       "56                                Mercedes-Benz_SLC 300  \n",
       "770                         Chevrolet_C10 SILVERADO 2WD  \n",
       "1199                    Land Rover_Range Rover SV Coupe  \n",
       "561                          TOYOTA_CAMRY HYBRID XLE/SE  \n",
       "597                                    Chevrolet_IMPALA  \n",
       "925                                     Honda_PILOT FWD  \n",
       "441                              Ford_FUSION HYBRID FWD  \n",
       "1034                                  Jeep_Cherokee 4X4  \n",
       "80                  Aston Martin Lagonda Ltd_Vanquish S  \n",
       "546                                 NISSAN_SENTRA NISMO  \n",
       "1126                                  Ford_EXPLORER FWD  \n",
       "1077                                     MAZDA_CX-9 4WD  \n",
       "259                                            BMW_330i  \n",
       "570                                        TOYOTA_PRIUS  \n",
       "823                Ford_F150 5.0L 4WD FFV GVWR>7599 LBS  "
      ]
     },
     "execution_count": 22,
     "metadata": {},
     "output_type": "execute_result"
    }
   ],
   "source": [
    "# Create a sample set of 10, each with 30 vehicles\n",
    "vehicle_sample_set = [fuel_economy.sample(30) for x in range(0,10)]\n",
    "vehicle_sample_set[0]"
   ]
  },
  {
   "cell_type": "code",
   "execution_count": 23,
   "metadata": {},
   "outputs": [],
   "source": [
    "# Generate the plot data for each sample \n",
    "means = [sample.Combined_MPG.mean() for sample in vehicle_sample_set]\n",
    "standard_errors = [sem(sample.Combined_MPG) for sample in \n",
    "                   vehicle_sample_set]\n",
    "x_axis = np.arange(0, len(vehicle_sample_set), 1) + 1"
   ]
  },
  {
   "cell_type": "code",
   "execution_count": 24,
   "metadata": {},
   "outputs": [
    {
     "data": {
      "image/png": "[encoded data removed]",
      "text/plain": [
       "<Figure size 432x288 with 1 Axes>"
      ]
     },
     "metadata": {
      "needs_background": "light"
     },
     "output_type": "display_data"
    }
   ],
   "source": [
    "# Setting up the plot\n",
    "fig, ax = plt.subplots()\n",
    "ax.errorbar(x_axis, means, standard_errors, fmt=\"o\")\n",
    "ax.set_xlim(0, len(vehicle_sample_set) + 1)\n",
    "ax.set_ylim(20,28)\n",
    "ax.set_xlabel(\"Sample Number\")\n",
    "ax.set_ylabel(\"Mean MPG\")\n",
    "plt.show()"
   ]
  }
 ],
 "metadata": {
  "kernelspec": {
   "display_name": "Python 3",
   "language": "python",
   "name": "python3"
  },
  "language_info": {
   "codemirror_mode": {
    "name": "ipython",
    "version": 3
   },
   "file_extension": ".py",
   "mimetype": "text/x-python",
   "name": "python",
   "nbconvert_exporter": "python",
   "pygments_lexer": "ipython3",
   "version": "3.7.5"
  }
 },
 "nbformat": 4,
 "nbformat_minor": 2
}

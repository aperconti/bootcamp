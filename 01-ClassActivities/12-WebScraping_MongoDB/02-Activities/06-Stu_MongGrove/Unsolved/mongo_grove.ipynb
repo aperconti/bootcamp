{
 "cells": [
  {
   "cell_type": "code",
   "execution_count": 10,
   "metadata": {},
   "outputs": [],
   "source": [
    "# Module used to connect Python with MongoDb\n",
    "import pymongo"
   ]
  },
  {
   "cell_type": "code",
   "execution_count": 11,
   "metadata": {},
   "outputs": [],
   "source": [
    "# The default port used by MongoDB is 27017\n",
    "# https://docs.mongodb.com/manual/reference/default-mongodb-port/\n",
    "conn = 'mongodb://localhost:27017'\n",
    "client = pymongo.MongoClient(conn)\n",
    "\n",
    "# Define the 'classDB' database in Mongo\n",
    "db = client.fruits_db\n",
    "fruits = db.fruits_db\n",
    "\n"
   ]
  },
  {
   "cell_type": "code",
   "execution_count": 12,
   "metadata": {},
   "outputs": [
    {
     "data": {
      "text/plain": [
       "<pymongo.results.InsertOneResult at 0x7f856fd6b050>"
      ]
     },
     "execution_count": 12,
     "metadata": {},
     "output_type": "execute_result"
    }
   ],
   "source": [
    "first = {\"vendor name\": \"safeway\", \"type of fruit\" : \"blueberries\", \"quantity received\" : 10, \"ripeness rating\" : 3}\n",
    "\n",
    "second = {\"vendor name\": \"safeway\", \"type of fruit\" : \"blueberries\", \"quantity received\" : 10, \"ripeness rating\" : 3}\n",
    "\n",
    "fruits.insert_one(first)\n",
    "fruits.insert_one(second)"
   ]
  },
  {
   "cell_type": "code",
   "execution_count": 13,
   "metadata": {},
   "outputs": [
    {
     "name": "stdout",
     "output_type": "stream",
     "text": [
      "{'_id': ObjectId('5f59b391d8d8dc5ef3355c25'), 'vendor name': 'safeway', 'type of fruit': 'blueberries', 'quantity received': 10, 'ripeness rating': 3}\n",
      "{'_id': ObjectId('5f59b391d8d8dc5ef3355c26'), 'vendor name': 'safeway', 'type of fruit': 'blueberries', 'quantity received': 10, 'ripeness rating': 3}\n",
      "{'_id': ObjectId('5f59b3a7d8d8dc5ef3355c28'), 'vendor name': 'safeway', 'type of fruit': 'blueberries', 'quantity received': 10, 'ripeness rating': 3}\n",
      "{'_id': ObjectId('5f59b3a7d8d8dc5ef3355c29'), 'vendor name': 'safeway', 'type of fruit': 'blueberries', 'quantity received': 10, 'ripeness rating': 3}\n"
     ]
    }
   ],
   "source": [
    "# Verify results:\n",
    "results = fruits.find()\n",
    "for result in results:\n",
    "    print(result)"
   ]
  },
  {
   "cell_type": "code",
   "execution_count": null,
   "metadata": {},
   "outputs": [],
   "source": []
  }
 ],
 "metadata": {
  "kernelspec": {
   "display_name": "Python 3",
   "language": "python",
   "name": "python3"
  },
  "language_info": {
   "codemirror_mode": {
    "name": "ipython",
    "version": 3
   },
   "file_extension": ".py",
   "mimetype": "text/x-python",
   "name": "python",
   "nbconvert_exporter": "python",
   "pygments_lexer": "ipython3",
   "version": "3.7.6"
  }
 },
 "nbformat": 4,
 "nbformat_minor": 2
}

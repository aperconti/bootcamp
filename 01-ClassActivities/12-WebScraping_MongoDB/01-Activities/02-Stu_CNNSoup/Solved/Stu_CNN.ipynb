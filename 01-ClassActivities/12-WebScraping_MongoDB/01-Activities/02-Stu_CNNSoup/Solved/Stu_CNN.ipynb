{
 "cells": [
  {
   "cell_type": "code",
   "execution_count": 1,
   "metadata": {},
   "outputs": [],
   "source": [
    "# Dependencies\n",
    "import os\n",
    "from bs4 import BeautifulSoup as bs"
   ]
  },
  {
   "cell_type": "code",
   "execution_count": 12,
   "metadata": {},
   "outputs": [],
   "source": [
    "# Read HTML from file\n",
    "filepath = os.path.join(\"..\", \"Resources\", \"template.html\")\n",
    "with open(filepath) as file:\n",
    "    html = file.read()"
   ]
  },
  {
   "cell_type": "code",
   "execution_count": 2,
   "metadata": {},
   "outputs": [],
   "source": [
    "# Or read HTML from website\n",
    "import requests\n",
    "url = \"http://edition.cnn.com/EVENTS/1996/year.in.review/main.html\"\n",
    "html = requests.get(url).text"
   ]
  },
  {
   "cell_type": "code",
   "execution_count": 3,
   "metadata": {},
   "outputs": [],
   "source": [
    "# Create a Beautiful Soup object\n",
    "soup = bs(html, 'lxml')"
   ]
  },
  {
   "cell_type": "code",
   "execution_count": 4,
   "metadata": {},
   "outputs": [
    {
     "name": "stdout",
     "output_type": "stream",
     "text": [
      "Top Ten\n"
     ]
    }
   ],
   "source": [
    "# Extract title text\n",
    "title = soup.title.text\n",
    "print(title)"
   ]
  },
  {
   "cell_type": "code",
   "execution_count": 5,
   "metadata": {},
   "outputs": [
    {
     "name": "stdout",
     "output_type": "stream",
     "text": [
      "\n",
      "\n",
      "What were the biggest stories of the year?\n",
      "\n",
      "It's a question journalists like to ask themselves at the end of every\n",
      "\t\t\tyear. Now you can join in the process. Here are our selections for the top ten news\n",
      "\t\t\tstories of 1996.\n",
      "\n",
      "\t\t\tDisagree with our choices? Then tell us what stories you think were most compelling\n",
      "\t\t\tin the poll below.\n",
      "\n",
      "\n",
      "\n",
      "What makes a big\n",
      "\t\t\tstory BIG?\n",
      "\n",
      "It depends on your criteria, of course, and your perspective. That's why we offered\n",
      "\t\t\ta poll to find out what you think.\n",
      "For our list, we polled producers throughout the CNN/Pathfinder family of networks\n",
      "\t\t\tand publications, and weighed such criteria as a story's long-term implications,\n",
      "\t\t\tgeopolitical significance, user interest, amount of coverage, and old-fashioned newsworthiness.\n",
      "\t\t\tAll these things help make a \"big\" story big.\n",
      "By no means do we think our lists are the final word. Even our polls among CNN\n",
      "\t\t\tproducers turned up a wide variety of responses. The process is meant to encourage\n",
      "\t\t\tyou to reconsider the stories that dominated the media during the past year and determine\n",
      "\t\t\tfor yourself which were mere sensations and which were truly significant.\n",
      "\t\t\t\n",
      "© 1996 Cable News Network, Inc.\n",
      "All Rights Reserved.\n"
     ]
    }
   ],
   "source": [
    "# Print all paragraph texts\n",
    "paragraphs = soup.find_all('p')\n",
    "for paragraph in paragraphs:\n",
    "    print(paragraph.text)"
   ]
  },
  {
   "cell_type": "code",
   "execution_count": 6,
   "metadata": {},
   "outputs": [],
   "source": [
    "# Print all ten headlines\n",
    "tds = soup.find_all('td')\n",
    "# A blank list to hold the headlines\n",
    "headlines = []\n",
    "# Loop over td elements\n",
    "for td in tds:\n",
    "    # If td element has an anchor...\n",
    "    if (td.a):\n",
    "        # And the anchor has non-blank text...\n",
    "        if (td.a.text):\n",
    "            # Append the td to the list\n",
    "            headlines.append(td)"
   ]
  },
  {
   "cell_type": "code",
   "execution_count": 7,
   "metadata": {},
   "outputs": [
    {
     "name": "stdout",
     "output_type": "stream",
     "text": [
      "Israel elects Netanyahu\n",
      "Crash of TWA\n",
      "\t\t\tFlight 800\n",
      "Russia elects Yeltsin\n",
      "U.S. elects Clinton\n",
      "Hutu-Tutsi conflict in central Africa\n",
      "Peace, elections in Bosnia\n",
      "U.S. base bombed in Saudi Arabia\n",
      "Centennial Olympic Games\n",
      "Advances against AIDS\n",
      "Unabomb suspect Ted Kaczynski arrested\n",
      "The top 10 stories according to our users\n",
      "Tell us what you think\n",
      "You said it...\n"
     ]
    }
   ],
   "source": [
    "# Print only the headlines\n",
    "for x in range(len(headlines)):\n",
    "    print(headlines[x].text)        \n"
   ]
  },
  {
   "cell_type": "code",
   "execution_count": null,
   "metadata": {},
   "outputs": [],
   "source": []
  }
 ],
 "metadata": {
  "kernelspec": {
   "display_name": "Python 3",
   "language": "python",
   "name": "python3"
  },
  "language_info": {
   "codemirror_mode": {
    "name": "ipython",
    "version": 3
   },
   "file_extension": ".py",
   "mimetype": "text/x-python",
   "name": "python",
   "nbconvert_exporter": "python",
   "pygments_lexer": "ipython3",
   "version": "3.7.5"
  },
  "varInspector": {
   "cols": {
    "lenName": 16,
    "lenType": 16,
    "lenVar": 40
   },
   "kernels_config": {
    "python": {
     "delete_cmd_postfix": "",
     "delete_cmd_prefix": "del ",
     "library": "var_list.py",
     "varRefreshCmd": "print(var_dic_list())"
    },
    "r": {
     "delete_cmd_postfix": ") ",
     "delete_cmd_prefix": "rm(",
     "library": "var_list.r",
     "varRefreshCmd": "cat(var_dic_list()) "
    }
   },
   "types_to_exclude": [
    "module",
    "function",
    "builtin_function_or_method",
    "instance",
    "_Feature"
   ],
   "window_display": false
  }
 },
 "nbformat": 4,
 "nbformat_minor": 2
}

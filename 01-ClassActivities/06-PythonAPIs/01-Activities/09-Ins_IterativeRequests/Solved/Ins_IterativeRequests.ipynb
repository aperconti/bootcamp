{
 "cells": [
  {
   "cell_type": "code",
   "execution_count": 1,
   "metadata": {},
   "outputs": [],
   "source": [
    "# Dependencies\n",
    "import random\n",
    "import json\n",
    "import requests"
   ]
  },
  {
   "cell_type": "code",
   "execution_count": 2,
   "metadata": {},
   "outputs": [],
   "source": [
    "# Let's get the JSON for 100 posts sequentially.\n",
    "url = \"http://jsonplaceholder.typicode.com/posts/\""
   ]
  },
  {
   "cell_type": "code",
   "execution_count": 3,
   "metadata": {},
   "outputs": [],
   "source": [
    "# Create an empty list to store the responses\n",
    "response_json = []"
   ]
  },
  {
   "cell_type": "code",
   "execution_count": 4,
   "metadata": {},
   "outputs": [
    {
     "data": {
      "text/plain": [
       "[76, 95, 20, 68, 25, 42, 97, 54, 50, 2]"
      ]
     },
     "execution_count": 4,
     "metadata": {},
     "output_type": "execute_result"
    }
   ],
   "source": [
    "# Create random indices representing\n",
    "# a user's choice of posts\n",
    "indices = random.sample(list(range(1, 100)), 10)\n",
    "indices"
   ]
  },
  {
   "cell_type": "code",
   "execution_count": 5,
   "metadata": {},
   "outputs": [
    {
     "name": "stdout",
     "output_type": "stream",
     "text": [
      "Making request number: 0 for ID: 76\n",
      "Making request number: 1 for ID: 95\n",
      "Making request number: 2 for ID: 20\n",
      "Making request number: 3 for ID: 68\n",
      "Making request number: 4 for ID: 25\n",
      "Making request number: 5 for ID: 42\n",
      "Making request number: 6 for ID: 97\n",
      "Making request number: 7 for ID: 54\n",
      "Making request number: 8 for ID: 50\n",
      "Making request number: 9 for ID: 2\n"
     ]
    }
   ],
   "source": [
    "# Make a request for each of the indices\n",
    "for x in range(len(indices)):\n",
    "    print(f\"Making request number: {x} for ID: {indices[x]}\")\n",
    "\n",
    "    # Get one of the posts\n",
    "    post_response = requests.get(url + str(indices[x]))\n",
    "\n",
    "    # Save post's JSON\n",
    "    response_json.append(post_response.json())"
   ]
  },
  {
   "cell_type": "code",
   "execution_count": 6,
   "metadata": {},
   "outputs": [
    {
     "name": "stdout",
     "output_type": "stream",
     "text": [
      "We have 10 posts!\n"
     ]
    }
   ],
   "source": [
    "# Now we have 10 post objects, \n",
    "# which we got by making 100 requests to the API.\n",
    "print(f\"We have {len(response_json)} posts!\")"
   ]
  },
  {
   "cell_type": "code",
   "execution_count": 7,
   "metadata": {},
   "outputs": [
    {
     "data": {
      "text/plain": [
       "[{'userId': 8,\n",
       "  'id': 76,\n",
       "  'title': 'doloremque officiis ad et non perferendis',\n",
       "  'body': 'ut animi facere\\ntotam iusto tempore\\nmolestiae eum aut et dolorem aperiam\\nquaerat recusandae totam odio'},\n",
       " {'userId': 10,\n",
       "  'id': 95,\n",
       "  'title': 'id minus libero illum nam ad officiis',\n",
       "  'body': 'earum voluptatem facere provident blanditiis velit laboriosam\\npariatur accusamus odio saepe\\ncumque dolor qui a dicta ab doloribus consequatur omnis\\ncorporis cupiditate eaque assumenda ad nesciunt'},\n",
       " {'userId': 2,\n",
       "  'id': 20,\n",
       "  'title': 'doloribus ad provident suscipit at',\n",
       "  'body': 'qui consequuntur ducimus possimus quisquam amet similique\\nsuscipit porro ipsam amet\\neos veritatis officiis exercitationem vel fugit aut necessitatibus totam\\nomnis rerum consequatur expedita quidem cumque explicabo'},\n",
       " {'userId': 7,\n",
       "  'id': 68,\n",
       "  'title': 'odio quis facere architecto reiciendis optio',\n",
       "  'body': 'magnam molestiae perferendis quisquam\\nqui cum reiciendis\\nquaerat animi amet hic inventore\\nea quia deleniti quidem saepe porro velit'},\n",
       " {'userId': 3,\n",
       "  'id': 25,\n",
       "  'title': 'rem alias distinctio quo quis',\n",
       "  'body': 'ullam consequatur ut\\nomnis quis sit vel consequuntur\\nipsa eligendi ipsum molestiae et omnis error nostrum\\nmolestiae illo tempore quia et distinctio'},\n",
       " {'userId': 5,\n",
       "  'id': 42,\n",
       "  'title': 'commodi ullam sint et excepturi error explicabo praesentium voluptas',\n",
       "  'body': 'odio fugit voluptatum ducimus earum autem est incidunt voluptatem\\nodit reiciendis aliquam sunt sequi nulla dolorem\\nnon facere repellendus voluptates quia\\nratione harum vitae ut'},\n",
       " {'userId': 10,\n",
       "  'id': 97,\n",
       "  'title': 'quas fugiat ut perspiciatis vero provident',\n",
       "  'body': 'eum non blanditiis soluta porro quibusdam voluptas\\nvel voluptatem qui placeat dolores qui velit aut\\nvel inventore aut cumque culpa explicabo aliquid at\\nperspiciatis est et voluptatem dignissimos dolor itaque sit nam'},\n",
       " {'userId': 6,\n",
       "  'id': 54,\n",
       "  'title': 'sit asperiores ipsam eveniet odio non quia',\n",
       "  'body': 'totam corporis dignissimos\\nvitae dolorem ut occaecati accusamus\\nex velit deserunt\\net exercitationem vero incidunt corrupti mollitia'},\n",
       " {'userId': 5,\n",
       "  'id': 50,\n",
       "  'title': 'repellendus qui recusandae incidunt voluptates tenetur qui omnis exercitationem',\n",
       "  'body': 'error suscipit maxime adipisci consequuntur recusandae\\nvoluptas eligendi et est et voluptates\\nquia distinctio ab amet quaerat molestiae et vitae\\nadipisci impedit sequi nesciunt quis consectetur'},\n",
       " {'userId': 1,\n",
       "  'id': 2,\n",
       "  'title': 'qui est esse',\n",
       "  'body': 'est rerum tempore vitae\\nsequi sint nihil reprehenderit dolor beatae ea dolores neque\\nfugiat blanditiis voluptate porro vel nihil molestiae ut reiciendis\\nqui aperiam non debitis possimus qui neque nisi nulla'}]"
      ]
     },
     "execution_count": 7,
     "metadata": {},
     "output_type": "execute_result"
    }
   ],
   "source": [
    "response_json"
   ]
  },
  {
   "cell_type": "code",
   "execution_count": null,
   "metadata": {},
   "outputs": [],
   "source": []
  }
 ],
 "metadata": {
  "kernelspec": {
   "display_name": "Python 3",
   "language": "python",
   "name": "python3"
  },
  "language_info": {
   "codemirror_mode": {
    "name": "ipython",
    "version": 3
   },
   "file_extension": ".py",
   "mimetype": "text/x-python",
   "name": "python",
   "nbconvert_exporter": "python",
   "pygments_lexer": "ipython3",
   "version": "3.7.6"
  },
  "varInspector": {
   "cols": {
    "lenName": 16,
    "lenType": 16,
    "lenVar": 40
   },
   "kernels_config": {
    "python": {
     "delete_cmd_postfix": "",
     "delete_cmd_prefix": "del ",
     "library": "var_list.py",
     "varRefreshCmd": "print(var_dic_list())"
    },
    "r": {
     "delete_cmd_postfix": ") ",
     "delete_cmd_prefix": "rm(",
     "library": "var_list.r",
     "varRefreshCmd": "cat(var_dic_list()) "
    }
   },
   "types_to_exclude": [
    "module",
    "function",
    "builtin_function_or_method",
    "instance",
    "_Feature"
   ],
   "window_display": false
  }
 },
 "nbformat": 4,
 "nbformat_minor": 2
}

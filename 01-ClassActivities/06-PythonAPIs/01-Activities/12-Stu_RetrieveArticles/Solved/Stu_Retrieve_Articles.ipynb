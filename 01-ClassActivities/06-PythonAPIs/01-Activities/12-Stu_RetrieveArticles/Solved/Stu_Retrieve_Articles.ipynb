{
 "cells": [
  {
   "cell_type": "code",
   "execution_count": 5,
   "metadata": {},
   "outputs": [],
   "source": [
    "# Dependencies\n",
    "import requests\n",
    "from config import api_key\n",
    "import time\n",
    "\n",
    "url = \"https://api.nytimes.com/svc/search/v2/articlesearch.json?\"\n",
    "\n",
    "# Store a search term\n",
    "query = \"portland\"\n",
    "\n",
    "# Search for articles published between a begin and end date\n",
    "begin_date = \"20200501\"\n",
    "end_date = \"20200730\"\n",
    "\n",
    "query_url = f\"{url}api-key={api_key}&q={query}&begin_date={begin_date}&end_date={end_date}\""
   ]
  },
  {
   "cell_type": "code",
   "execution_count": 6,
   "metadata": {},
   "outputs": [
    {
     "name": "stdout",
     "output_type": "stream",
     "text": [
      "A snippet from the article: How can this be a job for Homeland Security?\n",
      "---------------------------\n",
      "A snippet from the article: Chaotic scenes continued to play out in Portland, Ore., early Wednesday amid the growing backlash to the presence of camouflaged federal agents.\n",
      "---------------------------\n",
      "A snippet from the article: The moms, wearing yellow, joined in the protests in Portland, Ore., during another night of unrest.\n",
      "---------------------------\n",
      "A snippet from the article: Our reporter spent another night in downtown Portland witnessing the protests in response to police violence and the presence of federal authorities.\n",
      "---------------------------\n",
      "A snippet from the article: Robert Evans of Bellingcat says the city “is being used as a bellwether to see what this administration can get away with.”\n",
      "---------------------------\n",
      "A snippet from the article: The violent conflict with federal agents deployed by the Trump administration continued Tuesday night.\n",
      "---------------------------\n",
      "A snippet from the article: The street demonstrations that have shuddered through Portland for 54 consecutive nights have drawn out a complicated mix of emotions and grievances.\n",
      "---------------------------\n",
      "A snippet from the article: Federal authorities said they would bring order to Portland, Ore., after weeks of protests there. Local leaders believe the federal presence is making things worse.\n",
      "---------------------------\n",
      "A snippet from the article: A militarized crackdown raises an outcry from local leaders: This is your morning tip sheet.\n",
      "---------------------------\n",
      "A snippet from the article: Video shows federal officers beating a Navy veteran at protests in Portland, Ore.\n",
      "---------------------------\n"
     ]
    }
   ],
   "source": [
    "# Retrieve articles\n",
    "articles = requests.get(query_url).json()\n",
    "articles_list = articles[\"response\"][\"docs\"]\n",
    "\n",
    "for article in articles_list:\n",
    "    print(f'A snippet from the article: {article[\"snippet\"]}')\n",
    "    print('---------------------------')"
   ]
  },
  {
   "cell_type": "code",
   "execution_count": 7,
   "metadata": {},
   "outputs": [],
   "source": [
    "# BONUS: How would we get 30 results? \n",
    "# HINT: Look up the page query param\n",
    "\n",
    "# Empty list for articles\n",
    "articles_list = []\n",
    "\n",
    "# loop through pages 0-2\n",
    "for page in range(0, 3):\n",
    "    query_url = f\"{url}api-key={api_key}&q={query}&begin_date={begin_date}&end_date={end_date}\"\n",
    "    # create query with page number\n",
    "    query_url = f\"{query_url}&page={str(page)}\"\n",
    "    articles = requests.get(query_url).json()\n",
    "    \n",
    "    # Add a one second interval between queries to stay within API query limits\n",
    "    time.sleep(1)\n",
    "    # loop through the response and append each article to the list\n",
    "    for article in articles[\"response\"][\"docs\"]:\n",
    "        articles_list.append(article)"
   ]
  },
  {
   "cell_type": "code",
   "execution_count": 8,
   "metadata": {},
   "outputs": [
    {
     "name": "stdout",
     "output_type": "stream",
     "text": [
      "How can this be a job for Homeland Security?\n",
      "---------------------------\n",
      "Chaotic scenes continued to play out in Portland, Ore., early Wednesday amid the growing backlash to the presence of camouflaged federal agents.\n",
      "---------------------------\n",
      "The moms, wearing yellow, joined in the protests in Portland, Ore., during another night of unrest.\n",
      "---------------------------\n",
      "Our reporter spent another night in downtown Portland witnessing the protests in response to police violence and the presence of federal authorities.\n",
      "---------------------------\n",
      "Robert Evans of Bellingcat says the city “is being used as a bellwether to see what this administration can get away with.”\n",
      "---------------------------\n",
      "The violent conflict with federal agents deployed by the Trump administration continued Tuesday night.\n",
      "---------------------------\n",
      "The street demonstrations that have shuddered through Portland for 54 consecutive nights have drawn out a complicated mix of emotions and grievances.\n",
      "---------------------------\n",
      "Federal authorities said they would bring order to Portland, Ore., after weeks of protests there. Local leaders believe the federal presence is making things worse.\n",
      "---------------------------\n",
      "A militarized crackdown raises an outcry from local leaders: This is your morning tip sheet.\n",
      "---------------------------\n",
      "Video shows federal officers beating a Navy veteran at protests in Portland, Ore.\n",
      "---------------------------\n",
      "Military-clad agents arrived under the Trump administration’s executive order to protect U.S. monuments. Oregon’s governor called it “a blatant abuse of power.”\n",
      "---------------------------\n",
      "The site where federal officers have fired tear gas and projectiles at protesters is named after a senator, Mark O. Hatfield, who described himself as “close” to being a pacifist.\n",
      "---------------------------\n",
      "Our reporter spent the night in Downtown Portland, witnessing the growing protests in response to the presence of federal troops.\n",
      "---------------------------\n",
      "Protesters and federal police clashed in Portland, Ore., as ongoing demonstrations against police violence, set off by the killing of George Floyd, drew an estimated 1,000 people over the weekend.\n",
      "---------------------------\n",
      "“Every morning, time to sweep up the mess,” said a resident of Portland, Ore., who was clearing away protest debris on Tuesday.\n",
      "---------------------------\n",
      "Rather than tamping down persistent protests in Portland, Ore., a militarized presence from federal officers seems to have re-energized them.\n",
      "---------------------------\n",
      "With no clear leaders or blueprints, demonstrators have scrounged for items from home and largely embraced a strategy of spontaneous consensus.\n",
      "---------------------------\n",
      "Protesters have been in the streets for more than 50 consecutive days. Federal agents deployed to Portland have hardened their resolve to stay there.\n",
      "---------------------------\n",
      "The veteran said he wanted to ask the officers whether they felt their actions violated the Constitution. Video shows them tear-gassing him and smashing his hand with baton blows.\n",
      "---------------------------\n",
      "The Trump campaign is spending millions on ads that promote a dark and exaggerated portrayal of Democratic-led cities, a tactic that reinforces his “law and order’’ campaign message.\n",
      "---------------------------\n",
      "The Department of Homeland Security can point to federal statutes protecting property to justify the arrests of protesters in Portland, Ore., but whether they stretched the law would be up to a judge.\n",
      "---------------------------\n",
      "As federal agents patrol Portland and head to Chicago, Democrats call the president’s plan “an American crisis,” barely 100 days before the election.\n",
      "---------------------------\n",
      "Protesters are being snatched from the streets without warrants. Can we call it fascism yet?\n",
      "---------------------------\n",
      "A native of Portland, Mr. Glickman founded the Trail Blazers and helped shape them into one of the N.B.A.’s great success stories.\n",
      "---------------------------\n",
      "The enormous independent bookstore in Portland, Ore., became an unlikely tourist attraction. Now that it’s shut, Emily Powell, the chief executive, is having to rethink the books business.\n",
      "---------------------------\n",
      "We’re making food from our favorite restaurants at home.\n",
      "---------------------------\n",
      "Communities are finding creative ways to celebrate the traditional start of summer in the midst of social distancing and coronavirus alarm.\n",
      "---------------------------\n",
      "Rooms that are not just different than those you’re self-isolating in but unlike most others, too.\n",
      "---------------------------\n",
      "Taking a gap year at home can be as meaningful as doing one abroad.\n",
      "---------------------------\n",
      "Readers object to the use of federal officers, saying the protests were largely peaceful and any problems should have been handled by local law enforcement.\n",
      "---------------------------\n"
     ]
    }
   ],
   "source": [
    "for article in articles_list:\n",
    "    print(article['snippet'])\n",
    "    print('---------------------------')"
   ]
  },
  {
   "cell_type": "code",
   "execution_count": null,
   "metadata": {},
   "outputs": [],
   "source": []
  }
 ],
 "metadata": {
  "kernelspec": {
   "display_name": "Python 3",
   "language": "python",
   "name": "python3"
  },
  "language_info": {
   "codemirror_mode": {
    "name": "ipython",
    "version": 3
   },
   "file_extension": ".py",
   "mimetype": "text/x-python",
   "name": "python",
   "nbconvert_exporter": "python",
   "pygments_lexer": "ipython3",
   "version": "3.7.6"
  },
  "varInspector": {
   "cols": {
    "lenName": 16,
    "lenType": 16,
    "lenVar": 40
   },
   "kernels_config": {
    "python": {
     "delete_cmd_postfix": "",
     "delete_cmd_prefix": "del ",
     "library": "var_list.py",
     "varRefreshCmd": "print(var_dic_list())"
    },
    "r": {
     "delete_cmd_postfix": ") ",
     "delete_cmd_prefix": "rm(",
     "library": "var_list.r",
     "varRefreshCmd": "cat(var_dic_list()) "
    }
   },
   "types_to_exclude": [
    "module",
    "function",
    "builtin_function_or_method",
    "instance",
    "_Feature"
   ],
   "window_display": false
  }
 },
 "nbformat": 4,
 "nbformat_minor": 2
}

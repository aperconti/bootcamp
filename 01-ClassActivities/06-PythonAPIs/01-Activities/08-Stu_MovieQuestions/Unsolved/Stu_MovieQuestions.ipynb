{
 "cells": [
  {
   "cell_type": "code",
   "execution_count": 25,
   "metadata": {},
   "outputs": [],
   "source": [
    "# Dependencies\n",
    "import requests\n",
    "import json\n",
    "from config2 import api_key\n",
    "\n",
    "url = f\"http://www.omdbapi.com/?apikey={api_key}&t=\""
   ]
  },
  {
   "cell_type": "code",
   "execution_count": 28,
   "metadata": {},
   "outputs": [
    {
     "name": "stdout",
     "output_type": "stream",
     "text": [
      "{\"Title\": \"Aliens\", \"Year\": \"1986\", \"Rated\": \"R\", \"Released\": \"18 Jul 1986\", \"Runtime\": \"137 min\", \"Genre\": \"Action, Adventure, Sci-Fi, Thriller\", \"Director\": \"James Cameron\", \"Writer\": \"James Cameron (story by), David Giler (story by), Walter Hill (story by), Dan O'Bannon (based on characters created by), Ronald Shusett (based on characters created by), James Cameron (screenplay by)\", \"Actors\": \"Sigourney Weaver, Carrie Henn, Michael Biehn, Paul Reiser\", \"Plot\": \"Ellen Ripley is rescued by a deep salvage team after being in hypersleep for 57 years. The moon that the Nostromo visited has been colonized, but contact is lost. This time, colonial marines have impressive firepower, but will that be enough?\", \"Language\": \"English\", \"Country\": \"USA, UK\", \"Awards\": \"Won 2 Oscars. Another 18 wins & 23 nominations.\", \"Poster\": \"https://m.media-amazon.com/images/M/MV5BZGU2OGY5ZTYtMWNhYy00NjZiLWI0NjUtZmNhY2JhNDRmODU3XkEyXkFqcGdeQXVyNzkwMjQ5NzM@._V1_SX300.jpg\", \"Ratings\": [{\"Source\": \"Internet Movie Database\", \"Value\": \"8.3/10\"}, {\"Source\": \"Rotten Tomatoes\", \"Value\": \"97%\"}, {\"Source\": \"Metacritic\", \"Value\": \"84/100\"}], \"Metascore\": \"84\", \"imdbRating\": \"8.3\", \"imdbVotes\": \"634,359\", \"imdbID\": \"tt0090605\", \"Type\": \"movie\", \"DVD\": \"01 Jun 1999\", \"BoxOffice\": \"N/A\", \"Production\": \"20th Century Fox\", \"Website\": \"N/A\", \"Response\": \"True\"}\n"
     ]
    }
   ],
   "source": [
    "# Who was the director of the movie Aliens?\n",
    "response = requests.get(url+ \"Aliens\").json()\n",
    "print(json.dumps(response))\n",
    "\n",
    "print\n",
    " "
   ]
  },
  {
   "cell_type": "code",
   "execution_count": 3,
   "metadata": {
    "scrolled": true
   },
   "outputs": [],
   "source": [
    "# What was the movie Gladiator rated?"
   ]
  },
  {
   "cell_type": "code",
   "execution_count": null,
   "metadata": {},
   "outputs": [],
   "source": [
    "# What year was 50 First Dates released?"
   ]
  },
  {
   "cell_type": "code",
   "execution_count": null,
   "metadata": {
    "scrolled": true
   },
   "outputs": [],
   "source": [
    "# Who wrote Moana?"
   ]
  },
  {
   "cell_type": "code",
   "execution_count": null,
   "metadata": {
    "scrolled": true
   },
   "outputs": [],
   "source": [
    "# What was the plot of the movie Sing?"
   ]
  }
 ],
 "metadata": {
  "kernelspec": {
   "display_name": "Python 3",
   "language": "python",
   "name": "python3"
  },
  "language_info": {
   "codemirror_mode": {
    "name": "ipython",
    "version": 3
   },
   "file_extension": ".py",
   "mimetype": "text/x-python",
   "name": "python",
   "nbconvert_exporter": "python",
   "pygments_lexer": "ipython3",
   "version": "3.7.6"
  },
  "varInspector": {
   "cols": {
    "lenName": 16,
    "lenType": 16,
    "lenVar": 40
   },
   "kernels_config": {
    "python": {
     "delete_cmd_postfix": "",
     "delete_cmd_prefix": "del ",
     "library": "var_list.py",
     "varRefreshCmd": "print(var_dic_list())"
    },
    "r": {
     "delete_cmd_postfix": ") ",
     "delete_cmd_prefix": "rm(",
     "library": "var_list.r",
     "varRefreshCmd": "cat(var_dic_list()) "
    }
   },
   "types_to_exclude": [
    "module",
    "function",
    "builtin_function_or_method",
    "instance",
    "_Feature"
   ],
   "window_display": false
  }
 },
 "nbformat": 4,
 "nbformat_minor": 2
}

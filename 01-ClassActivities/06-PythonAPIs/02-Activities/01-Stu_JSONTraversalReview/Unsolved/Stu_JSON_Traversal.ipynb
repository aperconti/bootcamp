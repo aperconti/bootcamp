{
 "cells": [
  {
   "cell_type": "code",
   "execution_count": 1,
   "metadata": {},
   "outputs": [],
   "source": [
    "# Dependencies\n",
    "import json\n",
    "import os\n",
    "\n",
    "# Load JSON\n",
    "filepath = os.path.join(\"..\", \"Resources\", \"youtube_response.json\")\n",
    "with open(filepath) as jsonfile:\n",
    "    json_data = json.load(jsonfile)"
   ]
  },
  {
   "cell_type": "code",
   "execution_count": 3,
   "metadata": {},
   "outputs": [
    {
     "name": "stdout",
     "output_type": "stream",
     "text": [
      "{\n",
      "   \"apiVersion\": \"2.0\",\n",
      "   \"data\": {\n",
      "      \"updated\": \"2010-01-07T19:58:42.949Z\",\n",
      "      \"totalItems\": 800,\n",
      "      \"startIndex\": 1,\n",
      "      \"itemsPerPage\": 1,\n",
      "      \"items\": [\n",
      "         {\n",
      "            \"id\": \"hYB0mn5zh2c\",\n",
      "            \"uploaded\": \"2007-06-05T22:07:03.000Z\",\n",
      "            \"updated\": \"2010-01-07T13:26:50.000Z\",\n",
      "            \"uploader\": \"GoogleDeveloperDay\",\n",
      "            \"category\": \"News\",\n",
      "            \"title\": \"Google Developers Day US - Maps API Introduction\",\n",
      "            \"description\": \"Google Maps API Introduction ...\",\n",
      "            \"tags\": [\n",
      "               \"GDD07\",\n",
      "               \"GDD07US\",\n",
      "               \"Maps\"\n",
      "            ],\n",
      "            \"thumbnail\": {\n",
      "               \"default\": \"http://i.ytimg.com/vi/hYB0mn5zh2c/default.jpg\",\n",
      "               \"hqDefault\": \"http://i.ytimg.com/vi/hYB0mn5zh2c/hqdefault.jpg\"\n",
      "            },\n",
      "            \"player\": {\n",
      "               \"default\": \"http://www.youtube.com/watch?vu003dhYB0mn5zh2c\"\n",
      "            },\n",
      "            \"content\": {\n",
      "               \"1\": \"rtsp://v5.cache3.c.youtube.com/CiILENy.../0/0/0/video.3gp\",\n",
      "               \"5\": \"http://www.youtube.com/v/hYB0mn5zh2c?f...\",\n",
      "               \"6\": \"rtsp://v1.cache1.c.youtube.com/CiILENy.../0/0/0/video.3gp\"\n",
      "            },\n",
      "            \"duration\": 2840,\n",
      "            \"aspectRatio\": \"widescreen\",\n",
      "            \"rating\": 4.63,\n",
      "            \"ratingCount\": 68,\n",
      "            \"viewCount\": 220101,\n",
      "            \"favoriteCount\": 201,\n",
      "            \"commentCount\": 22,\n",
      "            \"status\": {\n",
      "               \"value\": \"restricted\",\n",
      "               \"reason\": \"limitedSyndication\"\n",
      "            },\n",
      "            \"accessControl\": {\n",
      "               \"syndicate\": \"allowed\",\n",
      "               \"commentVote\": \"allowed\",\n",
      "               \"rate\": \"allowed\",\n",
      "               \"list\": \"allowed\",\n",
      "               \"comment\": \"allowed\",\n",
      "               \"embed\": \"allowed\",\n",
      "               \"videoRespond\": \"moderated\"\n",
      "            }\n",
      "         }\n",
      "      ]\n",
      "   }\n",
      "}\n"
     ]
    }
   ],
   "source": [
    "print(json.dumps(json_data, indent = 3))"
   ]
  },
  {
   "cell_type": "code",
   "execution_count": 7,
   "metadata": {},
   "outputs": [],
   "source": [
    "data = json_data['data']\n",
    "data_items = data['items']"
   ]
  },
  {
   "cell_type": "code",
   "execution_count": 11,
   "metadata": {},
   "outputs": [
    {
     "name": "stdout",
     "output_type": "stream",
     "text": [
      "title: Google Developers Day US - Maps API Introduction\n"
     ]
    }
   ],
   "source": [
    "titles = data_items[0][\"title\"]\n",
    "print(\"title:\", titles)"
   ]
  },
  {
   "cell_type": "code",
   "execution_count": 12,
   "metadata": {},
   "outputs": [
    {
     "name": "stdout",
     "output_type": "stream",
     "text": [
      "rating: 4.63\n"
     ]
    }
   ],
   "source": [
    "ratings = data_items[0][\"rating\"]\n",
    "print(\"rating:\", ratings)"
   ]
  },
  {
   "cell_type": "code",
   "execution_count": 13,
   "metadata": {},
   "outputs": [
    {
     "name": "stdout",
     "output_type": "stream",
     "text": [
      "thumbnail: http://i.ytimg.com/vi/hYB0mn5zh2c/default.jpg\n"
     ]
    }
   ],
   "source": [
    "thumbnail = data_items[0][\"thumbnail\"][\"default\"]\n",
    "print(\"thumbnail:\",thumbnail)"
   ]
  },
  {
   "cell_type": "code",
   "execution_count": 16,
   "metadata": {},
   "outputs": [
    {
     "name": "stdout",
     "output_type": "stream",
     "text": [
      "viewCount: 220101\n"
     ]
    }
   ],
   "source": [
    "viewCount = data_items[0][\"viewCount\"]\n",
    "print(\"viewCount:\", viewCount)"
   ]
  }
 ],
 "metadata": {
  "kernelspec": {
   "display_name": "Python 3",
   "language": "python",
   "name": "python3"
  },
  "language_info": {
   "codemirror_mode": {
    "name": "ipython",
    "version": 3
   },
   "file_extension": ".py",
   "mimetype": "text/x-python",
   "name": "python",
   "nbconvert_exporter": "python",
   "pygments_lexer": "ipython3",
   "version": "3.7.6"
  }
 },
 "nbformat": 4,
 "nbformat_minor": 2
}

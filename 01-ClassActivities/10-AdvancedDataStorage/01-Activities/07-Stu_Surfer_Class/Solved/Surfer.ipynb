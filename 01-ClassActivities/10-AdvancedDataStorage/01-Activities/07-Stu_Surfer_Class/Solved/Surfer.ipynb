{
 "cells": [
  {
   "cell_type": "code",
   "execution_count": 6,
   "metadata": {},
   "outputs": [],
   "source": [
    "# Define the Surfer Class\n",
    "class Surfer():\n",
    "\n",
    "  # Initialize the Surfer constructor \n",
    "  def __init__(self, name, hometown, rank):\n",
    "      self.name = name + \" \" + \"Dude\"\n",
    "      self.hometown = hometown + \" \" + \"Waves\"\n",
    "      self.rank = rank"
   ]
  },
  {
   "cell_type": "code",
   "execution_count": 7,
   "metadata": {},
   "outputs": [],
   "source": [
    "# Create an instance of the Surfer Class\n",
    "surferPrime = Surfer('Kelly Slater', 'Cocoa Beach', 1)"
   ]
  },
  {
   "cell_type": "code",
   "execution_count": 8,
   "metadata": {},
   "outputs": [
    {
     "name": "stdout",
     "output_type": "stream",
     "text": [
      "Kelly Slater Dude\n",
      "Cocoa Beach Waves\n",
      "1\n"
     ]
    }
   ],
   "source": [
    "# Print the object's attributes\n",
    "print(surferPrime.name)\n",
    "print(surferPrime.hometown)\n",
    "print(surferPrime.rank)"
   ]
  },
  {
   "cell_type": "code",
   "execution_count": 9,
   "metadata": {},
   "outputs": [
    {
     "name": "stdout",
     "output_type": "stream",
     "text": [
      "What is the surfer's name? one\n",
      "What is the surfer's hometown? two\n",
      "What is the surfer's rank? 3\n",
      "one Dude\n",
      "two Waves\n",
      "3\n",
      "Would you like to continue? (y/n) y\n",
      "What is the surfer's name? lark ness\n",
      "What is the surfer's hometown? edinburgh\n",
      "What is the surfer's rank? 9\n",
      "lark ness Dude\n",
      "edinburgh Waves\n",
      "9\n",
      "Would you like to continue? (y/n) n\n"
     ]
    }
   ],
   "source": [
    "# ----BONUS----\n",
    "# Variable to keep track of changes to while loop\n",
    "go = True\n",
    "\n",
    "# While loop runs so long as go is True\n",
    "while go:\n",
    "\n",
    "  # Ask for user input and store answers within variables\n",
    "  name = input(\"What is the surfer's name? \")\n",
    "  hometown = input(\"What is the surfer's hometown? \")\n",
    "  rank = int(input(\"What is the surfer's rank? \"))\n",
    "  \n",
    "  # Create a new instance of the Surfer class using these values\n",
    "  surfer = Surfer(name, hometown, rank)\n",
    "\n",
    "  # Print the object's attributes\n",
    "  print(surfer.name)\n",
    "  print(surfer.hometown)\n",
    "  print(surfer.rank)\n",
    "\n",
    "  # Check to see if the user would like to continue\n",
    "  check = input(\"Would you like to continue? (y/n) \")\n",
    "  if(check.lower() == \"y\"):\n",
    "    go = True\n",
    "  else:\n",
    "    go = False"
   ]
  },
  {
   "cell_type": "code",
   "execution_count": 10,
   "metadata": {},
   "outputs": [
    {
     "name": "stdout",
     "output_type": "stream",
     "text": [
      "lark ness Dude\n",
      "Kelly Slater Dude\n"
     ]
    }
   ],
   "source": [
    "print(surfer.name)\n",
    "print(surferPrime.name)"
   ]
  }
 ],
 "metadata": {
  "kernelspec": {
   "display_name": "Python 3",
   "language": "python",
   "name": "python3"
  },
  "language_info": {
   "codemirror_mode": {
    "name": "ipython",
    "version": 3
   },
   "file_extension": ".py",
   "mimetype": "text/x-python",
   "name": "python",
   "nbconvert_exporter": "python",
   "pygments_lexer": "ipython3",
   "version": "3.6.10"
  },
  "varInspector": {
   "cols": {
    "lenName": 16,
    "lenType": 16,
    "lenVar": 40
   },
   "kernels_config": {
    "python": {
     "delete_cmd_postfix": "",
     "delete_cmd_prefix": "del ",
     "library": "var_list.py",
     "varRefreshCmd": "print(var_dic_list())"
    },
    "r": {
     "delete_cmd_postfix": ") ",
     "delete_cmd_prefix": "rm(",
     "library": "var_list.r",
     "varRefreshCmd": "cat(var_dic_list()) "
    }
   },
   "types_to_exclude": [
    "module",
    "function",
    "builtin_function_or_method",
    "instance",
    "_Feature"
   ],
   "window_display": false
  }
 },
 "nbformat": 4,
 "nbformat_minor": 2
}
